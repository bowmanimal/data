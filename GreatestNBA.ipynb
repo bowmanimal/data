{
  "nbformat": 4,
  "nbformat_minor": 0,
  "metadata": {
    "colab": {
      "name": "GreatestNBA.ipynb",
      "provenance": [],
      "authorship_tag": "ABX9TyNRmikzQGTJSygPo5pO1NUE",
      "include_colab_link": true
    },
    "kernelspec": {
      "name": "ir",
      "display_name": "R"
    },
    "language_info": {
      "name": "R"
    }
  },
  "cells": [
    {
      "cell_type": "markdown",
      "metadata": {
        "id": "view-in-github",
        "colab_type": "text"
      },
      "source": [
        "<a href=\"https://colab.research.google.com/github/bowmanimal/data/blob/master/GreatestNBA.ipynb\" target=\"_parent\"><img src=\"https://colab.research.google.com/assets/colab-badge.svg\" alt=\"Open In Colab\"/></a>"
      ]
    },
    {
      "cell_type": "markdown",
      "metadata": {
        "id": "Orn2x9wGN3WU"
      },
      "source": [
        "Did the typical 1996 Chicago Bull perform better than the typical 2017 Golden State Warrior?\n",
        "First, download the file \"greatestNBA.csv\" from the course website, and upload it to this environment by clicking the little folder icon on the way left (underneath the {x} thing) and clicking upload (the little file with the up arrow on it). "
      ]
    },
    {
      "cell_type": "markdown",
      "metadata": {
        "id": "GiJWlZQVOQt5"
      },
      "source": [
        "Then, when ready, hit play on the code below as you go. If you have the data loaded properly at first, you should be able to see it!"
      ]
    },
    {
      "cell_type": "code",
      "metadata": {
        "id": "nAoh8kOzL3vy"
      },
      "source": [
        "greatestNBA <- read.csv(\"greatestNBA.csv\")\n",
        "greatestNBA"
      ],
      "execution_count": null,
      "outputs": []
    },
    {
      "cell_type": "markdown",
      "metadata": {
        "id": "DuYSTFNqOe3S"
      },
      "source": [
        "Run the next two lines to make new variables that have half of the dataset each, one for each team in the dataset. Don't worry about the details here, but after this, the '96 Bulls players will all be in \"bulls\" and the '17 Warriors players will all be in \"Warriors\""
      ]
    },
    {
      "cell_type": "code",
      "metadata": {
        "id": "ZuD3OUAGN0hm"
      },
      "source": [
        "bulls <- subset(greatestNBA, greatestNBA$team==\"96CHI\")\n",
        "warriors <- subset(greatestNBA, greatestNBA$team==\"17GSW\")"
      ],
      "execution_count": null,
      "outputs": []
    },
    {
      "cell_type": "markdown",
      "metadata": {
        "id": "uwSJ1zB2OmmH"
      },
      "source": [
        "Take a look at each dataset on their own (they are small)"
      ]
    },
    {
      "cell_type": "code",
      "metadata": {
        "id": "FtT0nPsoOmHa"
      },
      "source": [
        "bulls"
      ],
      "execution_count": null,
      "outputs": []
    },
    {
      "cell_type": "code",
      "metadata": {
        "id": "kyOSFCqJOtYb"
      },
      "source": [
        "warriors"
      ],
      "execution_count": null,
      "outputs": []
    },
    {
      "cell_type": "markdown",
      "metadata": {
        "id": "giy_u1wMOuzv"
      },
      "source": [
        "Here's how to calculate the mean of the Warriors points:"
      ]
    },
    {
      "cell_type": "code",
      "metadata": {
        "id": "YrLgV3dnOw59"
      },
      "source": [
        "mean(warriors$points)"
      ],
      "execution_count": null,
      "outputs": []
    },
    {
      "cell_type": "markdown",
      "metadata": {
        "id": "7XBOObUnO0aS"
      },
      "source": [
        "mean() is the function, warriors specifies the dataset and $points brings us to the points column.\n",
        "If you just tried mean(warriors), nothing would happen because there are many columns and if you just tried mean(points), it wouldn't work because you haven't said what dataset you are working with."
      ]
    },
    {
      "cell_type": "markdown",
      "metadata": {
        "id": "Fq5DRPV6PC0N"
      },
      "source": [
        "Now on the next couple lines you can check a bunch of things about the Bulls and the Warriors. \n",
        "Try these different functions below, and use them on different columns to come up with an argument: mean(), median(), quantile(), IQR(), range()"
      ]
    },
    {
      "cell_type": "code",
      "metadata": {
        "id": "kGI7-oPZPHJi"
      },
      "source": [
        ""
      ],
      "execution_count": null,
      "outputs": []
    },
    {
      "cell_type": "code",
      "metadata": {
        "id": "eV_9wUf7PISn"
      },
      "source": [
        ""
      ],
      "execution_count": null,
      "outputs": []
    },
    {
      "cell_type": "code",
      "metadata": {
        "id": "H5p_u8JwPIVN"
      },
      "source": [
        ""
      ],
      "execution_count": null,
      "outputs": []
    },
    {
      "cell_type": "code",
      "metadata": {
        "id": "5yExGnMRPIYA"
      },
      "source": [
        ""
      ],
      "execution_count": null,
      "outputs": []
    },
    {
      "cell_type": "code",
      "metadata": {
        "id": "ItVzfKNXPIbl"
      },
      "source": [
        ""
      ],
      "execution_count": null,
      "outputs": []
    },
    {
      "cell_type": "markdown",
      "metadata": {
        "id": "K1O32vpHPLJq"
      },
      "source": [
        "(if you need more, hit the [+ Code] button right up at the top)"
      ]
    },
    {
      "cell_type": "markdown",
      "metadata": {
        "id": "s3q2z-G2PTmw"
      },
      "source": [
        "You can also use boxplot() to plot a... box plot. To plot two things on a box plot next to each other, try boxplot(thing1,thing2).\n",
        "You can also use hist() to plot a... histogram! Try a couple."
      ]
    },
    {
      "cell_type": "code",
      "metadata": {
        "id": "f-oNEoTcPXuG"
      },
      "source": [
        "boxplot(warriors$points)"
      ],
      "execution_count": null,
      "outputs": []
    },
    {
      "cell_type": "code",
      "metadata": {
        "id": "60h663PuPj5Z"
      },
      "source": [
        "boxplot(warriors$points, bulls$points)"
      ],
      "execution_count": null,
      "outputs": []
    }
  ]
}